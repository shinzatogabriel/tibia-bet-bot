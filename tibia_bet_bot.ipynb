{
 "cells": [
  {
   "cell_type": "markdown",
   "id": "224cfb4d",
   "metadata": {},
   "source": [
    "# Before running\n",
    "\n",
    "- Verify if each cell is still working\n",
    "- Verify each html element in the bet site like the classes and xPath's"
   ]
  },
  {
   "cell_type": "markdown",
   "id": "23785965",
   "metadata": {},
   "source": [
    "# Last results collect"
   ]
  },
  {
   "cell_type": "code",
   "execution_count": 3,
   "id": "97ca3008",
   "metadata": {},
   "outputs": [
    {
     "name": "stdout",
     "output_type": "stream",
     "text": [
      "1.91x\n",
      "7.19x\n",
      "1.24x\n"
     ]
    },
    {
     "ename": "WebDriverException",
     "evalue": "Message: chrome not reachable\n  (Session info: chrome=96.0.4664.45)\nStacktrace:\nBacktrace:\n\tOrdinal0 [0x00B106F3+2492147]\n\tOrdinal0 [0x00AA9BD1+2071505]\n\tOrdinal0 [0x009B2340+1057600]\n\tOrdinal0 [0x009A7474+1012852]\n\tOrdinal0 [0x009A7C76+1014902]\n\tOrdinal0 [0x009A9345+1020741]\n\tOrdinal0 [0x009A3453+996435]\n\tOrdinal0 [0x009B3690+1062544]\n\tOrdinal0 [0x00A046D2+1394386]\n\tOrdinal0 [0x009F568B+1332875]\n\tOrdinal0 [0x009D21D4+1188308]\n\tOrdinal0 [0x009D302F+1191983]\n\tGetHandleVerifier [0x00C967A6+1545030]\n\tGetHandleVerifier [0x00D4105C+2243580]\n\tGetHandleVerifier [0x00B9BC97+518199]\n\tGetHandleVerifier [0x00B9AD80+514336]\n\tOrdinal0 [0x00AAED2D+2092333]\n\tOrdinal0 [0x00AB2EE8+2109160]\n\tOrdinal0 [0x00AB3022+2109474]\n\tOrdinal0 [0x00ABCB71+2149233]\n\tBaseThreadInitThunk [0x7646FA29+25]\n\tRtlGetAppContainerNamedObjectPath [0x773F7A9E+286]\n\tRtlGetAppContainerNamedObjectPath [0x773F7A6E+238]\n",
     "output_type": "error",
     "traceback": [
      "\u001b[1;31m---------------------------------------------------------------------------\u001b[0m",
      "\u001b[1;31mWebDriverException\u001b[0m                        Traceback (most recent call last)",
      "\u001b[1;32m<ipython-input-3-4e552dd25272>\u001b[0m in \u001b[0;36m<module>\u001b[1;34m\u001b[0m\n\u001b[0;32m     39\u001b[0m \u001b[0ma\u001b[0m \u001b[1;33m=\u001b[0m \u001b[0mLorem\u001b[0m\u001b[1;33m(\u001b[0m\u001b[1;33m)\u001b[0m\u001b[1;33m\u001b[0m\u001b[1;33m\u001b[0m\u001b[0m\n\u001b[0;32m     40\u001b[0m \u001b[0ma\u001b[0m\u001b[1;33m.\u001b[0m\u001b[0mopen\u001b[0m\u001b[1;33m(\u001b[0m\u001b[1;33m)\u001b[0m\u001b[1;33m\u001b[0m\u001b[1;33m\u001b[0m\u001b[0m\n\u001b[1;32m---> 41\u001b[1;33m \u001b[0ma\u001b[0m\u001b[1;33m.\u001b[0m\u001b[0mrunner\u001b[0m\u001b[1;33m(\u001b[0m\u001b[1;33m)\u001b[0m\u001b[1;33m\u001b[0m\u001b[1;33m\u001b[0m\u001b[0m\n\u001b[0m",
      "\u001b[1;32m<ipython-input-3-4e552dd25272>\u001b[0m in \u001b[0;36mrunner\u001b[1;34m(self)\u001b[0m\n\u001b[0;32m     30\u001b[0m     \u001b[1;32mwhile\u001b[0m \u001b[0mopen\u001b[0m\u001b[1;33m:\u001b[0m\u001b[1;33m\u001b[0m\u001b[1;33m\u001b[0m\u001b[0m\n\u001b[0;32m     31\u001b[0m       \u001b[0mtime\u001b[0m\u001b[1;33m.\u001b[0m\u001b[0msleep\u001b[0m\u001b[1;33m(\u001b[0m\u001b[1;36m5\u001b[0m\u001b[1;33m)\u001b[0m\u001b[1;33m\u001b[0m\u001b[1;33m\u001b[0m\u001b[0m\n\u001b[1;32m---> 32\u001b[1;33m       \u001b[0mresult\u001b[0m \u001b[1;33m=\u001b[0m \u001b[0mself\u001b[0m\u001b[1;33m.\u001b[0m\u001b[0mgetNumber\u001b[0m\u001b[1;33m(\u001b[0m\u001b[1;33m)\u001b[0m\u001b[1;33m\u001b[0m\u001b[1;33m\u001b[0m\u001b[0m\n\u001b[0m\u001b[0;32m     33\u001b[0m       \u001b[1;32mif\u001b[0m \u001b[0mresult\u001b[0m \u001b[1;33m!=\u001b[0m \u001b[1;32mNone\u001b[0m\u001b[1;33m:\u001b[0m\u001b[1;33m\u001b[0m\u001b[1;33m\u001b[0m\u001b[0m\n\u001b[0;32m     34\u001b[0m         \u001b[0mprint\u001b[0m\u001b[1;33m(\u001b[0m\u001b[0mresult\u001b[0m\u001b[1;33m)\u001b[0m\u001b[1;33m\u001b[0m\u001b[1;33m\u001b[0m\u001b[0m\n",
      "\u001b[1;32m<ipython-input-3-4e552dd25272>\u001b[0m in \u001b[0;36mgetNumber\u001b[1;34m(self)\u001b[0m\n\u001b[0;32m     14\u001b[0m \u001b[1;33m\u001b[0m\u001b[0m\n\u001b[0;32m     15\u001b[0m   \u001b[1;32mdef\u001b[0m \u001b[0mgetNumber\u001b[0m\u001b[1;33m(\u001b[0m\u001b[0mself\u001b[0m\u001b[1;33m)\u001b[0m\u001b[1;33m:\u001b[0m\u001b[1;33m\u001b[0m\u001b[1;33m\u001b[0m\u001b[0m\n\u001b[1;32m---> 16\u001b[1;33m     \u001b[0mlist\u001b[0m \u001b[1;33m=\u001b[0m \u001b[0mself\u001b[0m\u001b[1;33m.\u001b[0m\u001b[0mdriver\u001b[0m\u001b[1;33m.\u001b[0m\u001b[0mfind_elements\u001b[0m\u001b[1;33m(\u001b[0m\u001b[0mBy\u001b[0m\u001b[1;33m.\u001b[0m\u001b[0mCLASS_NAME\u001b[0m\u001b[1;33m,\u001b[0m \u001b[1;34m\"gHKVSK\"\u001b[0m\u001b[1;33m)\u001b[0m\u001b[1;33m\u001b[0m\u001b[1;33m\u001b[0m\u001b[0m\n\u001b[0m\u001b[0;32m     17\u001b[0m \u001b[1;33m\u001b[0m\u001b[0m\n\u001b[0;32m     18\u001b[0m     \u001b[1;32mif\u001b[0m \u001b[0mlist\u001b[0m\u001b[1;33m[\u001b[0m\u001b[1;36m0\u001b[0m\u001b[1;33m]\u001b[0m \u001b[1;33m!=\u001b[0m \u001b[0mself\u001b[0m\u001b[1;33m.\u001b[0m\u001b[0mlast_element\u001b[0m\u001b[1;33m:\u001b[0m\u001b[1;33m\u001b[0m\u001b[1;33m\u001b[0m\u001b[0m\n",
      "\u001b[1;32m~\\anaconda3\\lib\\site-packages\\selenium\\webdriver\\remote\\webdriver.py\u001b[0m in \u001b[0;36mfind_elements\u001b[1;34m(self, by, value)\u001b[0m\n\u001b[0;32m   1271\u001b[0m         \u001b[1;31m# Return empty list if driver returns null\u001b[0m\u001b[1;33m\u001b[0m\u001b[1;33m\u001b[0m\u001b[1;33m\u001b[0m\u001b[0m\n\u001b[0;32m   1272\u001b[0m         \u001b[1;31m# See https://github.com/SeleniumHQ/selenium/issues/4555\u001b[0m\u001b[1;33m\u001b[0m\u001b[1;33m\u001b[0m\u001b[1;33m\u001b[0m\u001b[0m\n\u001b[1;32m-> 1273\u001b[1;33m         return self.execute(Command.FIND_ELEMENTS, {\n\u001b[0m\u001b[0;32m   1274\u001b[0m             \u001b[1;34m'using'\u001b[0m\u001b[1;33m:\u001b[0m \u001b[0mby\u001b[0m\u001b[1;33m,\u001b[0m\u001b[1;33m\u001b[0m\u001b[1;33m\u001b[0m\u001b[0m\n\u001b[0;32m   1275\u001b[0m             'value': value})['value'] or []\n",
      "\u001b[1;32m~\\anaconda3\\lib\\site-packages\\selenium\\webdriver\\remote\\webdriver.py\u001b[0m in \u001b[0;36mexecute\u001b[1;34m(self, driver_command, params)\u001b[0m\n\u001b[0;32m    416\u001b[0m         \u001b[0mresponse\u001b[0m \u001b[1;33m=\u001b[0m \u001b[0mself\u001b[0m\u001b[1;33m.\u001b[0m\u001b[0mcommand_executor\u001b[0m\u001b[1;33m.\u001b[0m\u001b[0mexecute\u001b[0m\u001b[1;33m(\u001b[0m\u001b[0mdriver_command\u001b[0m\u001b[1;33m,\u001b[0m \u001b[0mparams\u001b[0m\u001b[1;33m)\u001b[0m\u001b[1;33m\u001b[0m\u001b[1;33m\u001b[0m\u001b[0m\n\u001b[0;32m    417\u001b[0m         \u001b[1;32mif\u001b[0m \u001b[0mresponse\u001b[0m\u001b[1;33m:\u001b[0m\u001b[1;33m\u001b[0m\u001b[1;33m\u001b[0m\u001b[0m\n\u001b[1;32m--> 418\u001b[1;33m             \u001b[0mself\u001b[0m\u001b[1;33m.\u001b[0m\u001b[0merror_handler\u001b[0m\u001b[1;33m.\u001b[0m\u001b[0mcheck_response\u001b[0m\u001b[1;33m(\u001b[0m\u001b[0mresponse\u001b[0m\u001b[1;33m)\u001b[0m\u001b[1;33m\u001b[0m\u001b[1;33m\u001b[0m\u001b[0m\n\u001b[0m\u001b[0;32m    419\u001b[0m             response['value'] = self._unwrap_value(\n\u001b[0;32m    420\u001b[0m                 response.get('value', None))\n",
      "\u001b[1;32m~\\anaconda3\\lib\\site-packages\\selenium\\webdriver\\remote\\errorhandler.py\u001b[0m in \u001b[0;36mcheck_response\u001b[1;34m(self, response)\u001b[0m\n\u001b[0;32m    241\u001b[0m                 \u001b[0malert_text\u001b[0m \u001b[1;33m=\u001b[0m \u001b[0mvalue\u001b[0m\u001b[1;33m[\u001b[0m\u001b[1;34m'alert'\u001b[0m\u001b[1;33m]\u001b[0m\u001b[1;33m.\u001b[0m\u001b[0mget\u001b[0m\u001b[1;33m(\u001b[0m\u001b[1;34m'text'\u001b[0m\u001b[1;33m)\u001b[0m\u001b[1;33m\u001b[0m\u001b[1;33m\u001b[0m\u001b[0m\n\u001b[0;32m    242\u001b[0m             \u001b[1;32mraise\u001b[0m \u001b[0mexception_class\u001b[0m\u001b[1;33m(\u001b[0m\u001b[0mmessage\u001b[0m\u001b[1;33m,\u001b[0m \u001b[0mscreen\u001b[0m\u001b[1;33m,\u001b[0m \u001b[0mstacktrace\u001b[0m\u001b[1;33m,\u001b[0m \u001b[0malert_text\u001b[0m\u001b[1;33m)\u001b[0m  \u001b[1;31m# type: ignore[call-arg]  # mypy is not smart enough here\u001b[0m\u001b[1;33m\u001b[0m\u001b[1;33m\u001b[0m\u001b[0m\n\u001b[1;32m--> 243\u001b[1;33m         \u001b[1;32mraise\u001b[0m \u001b[0mexception_class\u001b[0m\u001b[1;33m(\u001b[0m\u001b[0mmessage\u001b[0m\u001b[1;33m,\u001b[0m \u001b[0mscreen\u001b[0m\u001b[1;33m,\u001b[0m \u001b[0mstacktrace\u001b[0m\u001b[1;33m)\u001b[0m\u001b[1;33m\u001b[0m\u001b[1;33m\u001b[0m\u001b[0m\n\u001b[0m\u001b[0;32m    244\u001b[0m \u001b[1;33m\u001b[0m\u001b[0m\n\u001b[0;32m    245\u001b[0m     \u001b[1;32mdef\u001b[0m \u001b[0m_value_or_default\u001b[0m\u001b[1;33m(\u001b[0m\u001b[0mself\u001b[0m\u001b[1;33m,\u001b[0m \u001b[0mobj\u001b[0m\u001b[1;33m:\u001b[0m \u001b[0mMapping\u001b[0m\u001b[1;33m[\u001b[0m\u001b[0m_KT\u001b[0m\u001b[1;33m,\u001b[0m \u001b[0m_VT\u001b[0m\u001b[1;33m]\u001b[0m\u001b[1;33m,\u001b[0m \u001b[0mkey\u001b[0m\u001b[1;33m:\u001b[0m \u001b[0m_KT\u001b[0m\u001b[1;33m,\u001b[0m \u001b[0mdefault\u001b[0m\u001b[1;33m:\u001b[0m \u001b[0m_VT\u001b[0m\u001b[1;33m)\u001b[0m \u001b[1;33m->\u001b[0m \u001b[0m_VT\u001b[0m\u001b[1;33m:\u001b[0m\u001b[1;33m\u001b[0m\u001b[1;33m\u001b[0m\u001b[0m\n",
      "\u001b[1;31mWebDriverException\u001b[0m: Message: chrome not reachable\n  (Session info: chrome=96.0.4664.45)\nStacktrace:\nBacktrace:\n\tOrdinal0 [0x00B106F3+2492147]\n\tOrdinal0 [0x00AA9BD1+2071505]\n\tOrdinal0 [0x009B2340+1057600]\n\tOrdinal0 [0x009A7474+1012852]\n\tOrdinal0 [0x009A7C76+1014902]\n\tOrdinal0 [0x009A9345+1020741]\n\tOrdinal0 [0x009A3453+996435]\n\tOrdinal0 [0x009B3690+1062544]\n\tOrdinal0 [0x00A046D2+1394386]\n\tOrdinal0 [0x009F568B+1332875]\n\tOrdinal0 [0x009D21D4+1188308]\n\tOrdinal0 [0x009D302F+1191983]\n\tGetHandleVerifier [0x00C967A6+1545030]\n\tGetHandleVerifier [0x00D4105C+2243580]\n\tGetHandleVerifier [0x00B9BC97+518199]\n\tGetHandleVerifier [0x00B9AD80+514336]\n\tOrdinal0 [0x00AAED2D+2092333]\n\tOrdinal0 [0x00AB2EE8+2109160]\n\tOrdinal0 [0x00AB3022+2109474]\n\tOrdinal0 [0x00ABCB71+2149233]\n\tBaseThreadInitThunk [0x7646FA29+25]\n\tRtlGetAppContainerNamedObjectPath [0x773F7A9E+286]\n\tRtlGetAppContainerNamedObjectPath [0x773F7A6E+238]\n"
     ]
    }
   ],
   "source": [
    "#get data-value from span\n",
    "import os\n",
    "import time\n",
    "from selenium import webdriver\n",
    "from selenium.webdriver.common.keys import Keys\n",
    "from selenium.webdriver.common.by import By\n",
    "from selenium.webdriver.chrome.options import Options\n",
    "from selenium.webdriver.support.ui import WebDriverWait\n",
    "\n",
    "class Lorem():\n",
    "  def __init__(self):\n",
    "    self.driver = webdriver.Chrome()\n",
    "    self.last_element = None\n",
    "\n",
    "  def getNumber(self):\n",
    "    list = self.driver.find_elements(By.CLASS_NAME, \"gHKVSK\")\n",
    "    \n",
    "    if list[0] != self.last_element:\n",
    "      self.last_element = list[0]\n",
    "      return list[0].text\n",
    "\n",
    "    return None\n",
    "\n",
    "  def open(self):\n",
    "    self.driver.get(\"https://tibiablackjack.com/crash\")\n",
    "    time.sleep(4)\n",
    "\n",
    "  def runner(self):\n",
    "    open = True\n",
    "    while open:\n",
    "      time.sleep(5)\n",
    "      result = self.getNumber()\n",
    "      if result != None:\n",
    "        print(result)\n",
    "\n",
    "  def close(self):\n",
    "    self.driver.close()  \n",
    "\n",
    "a = Lorem() \n",
    "a.open()\n",
    "a.runner()"
   ]
  },
  {
   "cell_type": "markdown",
   "id": "43d783e1",
   "metadata": {},
   "source": [
    "# Right time to bet"
   ]
  },
  {
   "cell_type": "code",
   "execution_count": 2,
   "id": "8160bf90",
   "metadata": {
    "scrolled": true
   },
   "outputs": [
    {
     "name": "stdout",
     "output_type": "stream",
     "text": [
      "vc tem 120 segundos para logar\n",
      "login = blogadinho@hotmail.com\n",
      "senha = leo753leo\n",
      "verde\n",
      "verde\n",
      "verde\n",
      "verde\n",
      "verde\n",
      "verde\n",
      "verde\n",
      "verde\n",
      "verde\n",
      "verde\n"
     ]
    },
    {
     "ename": "KeyboardInterrupt",
     "evalue": "",
     "output_type": "error",
     "traceback": [
      "\u001b[1;31m---------------------------------------------------------------------------\u001b[0m",
      "\u001b[1;31mKeyboardInterrupt\u001b[0m                         Traceback (most recent call last)",
      "\u001b[1;32m<ipython-input-2-93cd66cba132>\u001b[0m in \u001b[0;36m<module>\u001b[1;34m\u001b[0m\n\u001b[0;32m     50\u001b[0m \u001b[0ma\u001b[0m \u001b[1;33m=\u001b[0m \u001b[0mbet\u001b[0m\u001b[1;33m(\u001b[0m\u001b[1;33m)\u001b[0m\u001b[1;33m\u001b[0m\u001b[1;33m\u001b[0m\u001b[0m\n\u001b[0;32m     51\u001b[0m \u001b[0ma\u001b[0m\u001b[1;33m.\u001b[0m\u001b[0mopen\u001b[0m\u001b[1;33m(\u001b[0m\u001b[1;33m)\u001b[0m\u001b[1;33m\u001b[0m\u001b[1;33m\u001b[0m\u001b[0m\n\u001b[1;32m---> 52\u001b[1;33m \u001b[0ma\u001b[0m\u001b[1;33m.\u001b[0m\u001b[0mrunner\u001b[0m\u001b[1;33m(\u001b[0m\u001b[1;33m)\u001b[0m\u001b[1;33m\u001b[0m\u001b[1;33m\u001b[0m\u001b[0m\n\u001b[0m",
      "\u001b[1;32m<ipython-input-2-93cd66cba132>\u001b[0m in \u001b[0;36mrunner\u001b[1;34m(self)\u001b[0m\n\u001b[0;32m     38\u001b[0m         \u001b[0mopen\u001b[0m \u001b[1;33m=\u001b[0m \u001b[1;32mTrue\u001b[0m\u001b[1;33m\u001b[0m\u001b[1;33m\u001b[0m\u001b[0m\n\u001b[0;32m     39\u001b[0m         \u001b[1;32mwhile\u001b[0m \u001b[0mopen\u001b[0m\u001b[1;33m:\u001b[0m\u001b[1;33m\u001b[0m\u001b[1;33m\u001b[0m\u001b[0m\n\u001b[1;32m---> 40\u001b[1;33m           \u001b[0mtime\u001b[0m\u001b[1;33m.\u001b[0m\u001b[0msleep\u001b[0m\u001b[1;33m(\u001b[0m\u001b[1;36m1\u001b[0m\u001b[1;33m)\u001b[0m\u001b[1;33m\u001b[0m\u001b[1;33m\u001b[0m\u001b[0m\n\u001b[0m\u001b[0;32m     41\u001b[0m           \u001b[0mresult\u001b[0m \u001b[1;33m=\u001b[0m \u001b[0mself\u001b[0m\u001b[1;33m.\u001b[0m\u001b[0mverifica\u001b[0m\u001b[1;33m(\u001b[0m\u001b[1;33m)\u001b[0m\u001b[1;33m\u001b[0m\u001b[1;33m\u001b[0m\u001b[0m\n\u001b[0;32m     42\u001b[0m           \u001b[1;32mif\u001b[0m \u001b[0mresult\u001b[0m\u001b[1;33m:\u001b[0m\u001b[1;33m\u001b[0m\u001b[1;33m\u001b[0m\u001b[0m\n",
      "\u001b[1;31mKeyboardInterrupt\u001b[0m: "
     ]
    }
   ],
   "source": [
    "#get start-button enable/disable\n",
    "import os\n",
    "import time\n",
    "from selenium import webdriver\n",
    "from selenium.webdriver.common.keys import Keys\n",
    "from selenium.webdriver.common.by import By\n",
    "from selenium.webdriver.chrome.options import Options\n",
    "from selenium.webdriver.support.ui import WebDriverWait\n",
    "\n",
    "class bet():\n",
    "    def __init__(self):\n",
    "        self.driver = webdriver.Chrome()\n",
    "        self.last_element = None\n",
    "\n",
    "\n",
    "    def verifica(self):\n",
    "        try:\n",
    "            but = self.driver.find_element(By.XPATH, '//*[@id=\"root\"]/div/main/div/div[1]/div[1]/section/div[2]/section/div[2]/button')\n",
    "            classe = but.get_attribute(\"class\")\n",
    "      \n",
    "            if classe == \"sc-eCImPb ifdSIk\": # Se for Verde...\n",
    "                return True\n",
    "      \n",
    "            return False # Se for cinza...\n",
    "    \n",
    "        except:\n",
    "            pass\n",
    "        \n",
    "        \n",
    "    def open(self):\n",
    "        self.driver.get(\"https://tibiablackjack.com/crash\")\n",
    "        print(\"vc tem 120 segundos para logar\")\n",
    "        print(\"login = blogadinho@hotmail.com\")\n",
    "        print(\"senha = leo753leo\")\n",
    "        time.sleep(8)\n",
    "        \n",
    "    def runner(self):\n",
    "        open = True\n",
    "        while open:\n",
    "          time.sleep(1)\n",
    "          result = self.verifica()\n",
    "          if result:\n",
    "            print(\"verde\")\n",
    "          else:\n",
    "            pass\n",
    "      \n",
    "    def close(self):\n",
    "        self.driver.close()\n",
    "\n",
    "a = bet() \n",
    "a.open()\n",
    "a.runner()"
   ]
  },
  {
   "cell_type": "markdown",
   "id": "fe4533cc",
   "metadata": {},
   "source": [
    "# Making the bet"
   ]
  },
  {
   "cell_type": "code",
   "execution_count": 4,
   "id": "ed7eff90",
   "metadata": {},
   "outputs": [
    {
     "name": "stdout",
     "output_type": "stream",
     "text": [
      "tempo esgotado\n",
      "passo 1\n",
      "passo 2\n",
      "passo 3\n"
     ]
    }
   ],
   "source": [
    "# preenchimento de caixas e ato da aposta\n",
    "import os\n",
    "import time\n",
    "from selenium import webdriver\n",
    "from selenium.webdriver.common.keys import Keys\n",
    "from selenium.webdriver.common.by import By\n",
    "from selenium.webdriver.chrome.options import Options\n",
    "from selenium.webdriver.support.ui import WebDriverWait\n",
    "\n",
    "driver = webdriver.Chrome()\n",
    "driver.get(\"https://tibiablackjack.com/crash\")\n",
    "time.sleep(120)\n",
    "print(\"tempo esgotado\")\n",
    "\n",
    "campo_valor = driver.find_element(By.XPATH, '//*[@id=\"root\"]/div/main/div/div[1]/div[1]/section/div[2]/section/div[1]/div[1]/input')\n",
    "time.sleep(1)\n",
    "campo_valor.send_keys(\"1\")\n",
    "print(\"passo 1\")\n",
    "\n",
    "campo_mult = driver.find_element(By.XPATH, '//*[@id=\"root\"]/div/main/div/div[1]/div[1]/section/div[2]/section/div[2]/div/input')\n",
    "time.sleep(1)\n",
    "campo_mult.send_keys(\"1.01\")\n",
    "print(\"passo 2\")\n",
    "\n",
    "button = driver.find_element(By.XPATH, '//*[@id=\"root\"]/div/main/div/div[1]/div[1]/section/div[2]/section/div[2]/button')\n",
    "time.sleep(1)\n",
    "button.click()\n",
    "print(\"passo 3\")"
   ]
  },
  {
   "cell_type": "markdown",
   "id": "50d71ebd",
   "metadata": {},
   "source": [
    "# Clean bet"
   ]
  },
  {
   "cell_type": "code",
   "execution_count": null,
   "id": "c02e9ab4",
   "metadata": {},
   "outputs": [],
   "source": [
    "import os\n",
    "import time\n",
    "from selenium import webdriver\n",
    "from selenium.webdriver.common.keys import Keys\n",
    "from selenium.webdriver.common.by import By\n",
    "from selenium.webdriver.chrome.options import Options\n",
    "from selenium.webdriver.support.ui import WebDriverWait\n",
    "\n",
    "driver = webdriver.Chrome()\n",
    "driver.get(\"https://tibiablackjack.com/crash\")\n",
    "time.sleep(120)\n",
    "print(\"tempo esgotado\")\n",
    "\n",
    "campo_valor_apaga = driver.find_element(By.XPATH, '//*[@id=\"root\"]/div/main/div/div[1]/div[1]/section/div[2]/section/div[1]/div[1]/input')\n",
    "time.sleep(1)\n",
    "campo_valor_apaga.clear()\n",
    "print(\"apagado\")\n"
   ]
  },
  {
   "cell_type": "markdown",
   "id": "c1562f09",
   "metadata": {},
   "source": [
    "# Final cell\n",
    "\n",
    "execute it after testing the other cells, individually"
   ]
  },
  {
   "cell_type": "code",
   "execution_count": null,
   "id": "98c03489",
   "metadata": {},
   "outputs": [
    {
     "name": "stdout",
     "output_type": "stream",
     "text": [
      "vc tem 120 segundos para logar\n",
      "login = blogadinho@hotmail.com\n",
      "senha = leo753leo\n",
      "falta 20 seg!!!\n",
      "esgotado\n"
     ]
    }
   ],
   "source": [
    "import os\n",
    "import time\n",
    "from selenium import webdriver\n",
    "from selenium.webdriver.common.keys import Keys\n",
    "from selenium.webdriver.common.by import By\n",
    "from selenium.webdriver.chrome.options import Options\n",
    "from selenium.webdriver.support.ui import WebDriverWait\n",
    "\n",
    "class Lorem():\n",
    "    def __init__(self):\n",
    "        self.driver = webdriver.Chrome()\n",
    "        self.last_element = None\n",
    "\n",
    "    def getNumber(self):\n",
    "        list = self.driver.find_elements(By.CLASS_NAME, \"gHKVSK\")\n",
    "    \n",
    "        if list[0] != self.last_element:\n",
    "            self.last_element = list[0]\n",
    "            return list[0].text\n",
    "\n",
    "        return None\n",
    "\n",
    "    def verifica(self):\n",
    "        try:\n",
    "            but = self.driver.find_element(By.XPATH, '//*[@id=\"root\"]/div/main/div/div[1]/div[1]/section/div[2]/section/div[2]/button')\n",
    "            classe = but.get_attribute(\"class\")\n",
    "      \n",
    "            if classe == \"sc-eCImPb ifdSIk\": # Se for Verde...\n",
    "                return True\n",
    "      \n",
    "            return False # Se for cinza...\n",
    "    \n",
    "        except:\n",
    "            pass\n",
    "    \n",
    "    def preenche(self, valor):\n",
    "        campo_valor = self.driver.find_element(By.XPATH, '//*[@id=\"root\"]/div/main/div/div[1]/div[1]/section/div[2]/section/div[1]/div[1]/input')\n",
    "        time.sleep(1)\n",
    "        campo_valor.send_keys(valor)\n",
    "        print(\"passo 1\")\n",
    "\n",
    "        campo_mult = self.driver.find_element(By.XPATH, '//*[@id=\"root\"]/div/main/div/div[1]/div[1]/section/div[2]/section/div[2]/div/input')\n",
    "        time.sleep(1)\n",
    "        campo_mult.send_keys(\"1.01\")\n",
    "        print(\"passo 2\")\n",
    "\n",
    "        button = self.driver.find_element(By.XPATH, '//*[@id=\"root\"]/div/main/div/div[1]/div[1]/section/div[2]/section/div[2]/button')\n",
    "        time.sleep(1)\n",
    "        button.click()\n",
    "        print(\"passo 3\")\n",
    "    \n",
    "    def limpa(self):\n",
    "        campo_valor_apaga = self.driver.find_element(By.XPATH, '//*[@id=\"root\"]/div/main/div/div[1]/div[1]/section/div[2]/section/div[1]/div[1]/input')\n",
    "        time.sleep(1)\n",
    "        campo_valor_apaga.send_keys(Keys.BACKSPACE)\n",
    "        print(\"apagado\")\n",
    "    \n",
    "    def open(self):\n",
    "        self.driver.get(\"https://tibiablackjack.com/crash\")\n",
    "        print(\"vc tem 120 segundos para logar\")\n",
    "        print(\"login = blogadinho@hotmail.com\")\n",
    "        print(\"senha = leo753leo\")\n",
    "        time.sleep(100)\n",
    "        print(\"falta 20 seg!!!\")\n",
    "        time.sleep(20)\n",
    "        print(\"esgotado\")\n",
    "\n",
    "    def runner(self):\n",
    "        open = True\n",
    "        while open:\n",
    "            time.sleep(1)\n",
    "            ready = self.verifica()\n",
    "            if ready:\n",
    "                result = self.getNumber()\n",
    "                time.sleep(1)\n",
    "                if result == \"1.00x\":\n",
    "                    time.sleep(30)\n",
    "                    bigbet = self.verifica()\n",
    "                    if bigbet:\n",
    "                        self.preenche(\"101\")\n",
    "                        print(\"big bet\")\n",
    "                        time.sleep(2)\n",
    "                        self.driver.refresh()\n",
    "                        print(\"refreshed\")\n",
    "                else:\n",
    "                    self.preenche(\"1\")\n",
    "                    time.sleep(2)\n",
    "                    self.driver.refresh()\n",
    "                    print(\"refreshed\")\n",
    "            else:\n",
    "                pass\n",
    "    \n",
    "    def close(self):\n",
    "        self.driver.close()  \n",
    "\n",
    "a = Lorem() \n",
    "a.open()\n",
    "a.runner()"
   ]
  },
  {
   "cell_type": "code",
   "execution_count": null,
   "id": "264c03eb",
   "metadata": {},
   "outputs": [],
   "source": []
  }
 ],
 "metadata": {
  "kernelspec": {
   "display_name": "Python 3 (ipykernel)",
   "language": "python",
   "name": "python3"
  },
  "language_info": {
   "codemirror_mode": {
    "name": "ipython",
    "version": 3
   },
   "file_extension": ".py",
   "mimetype": "text/x-python",
   "name": "python",
   "nbconvert_exporter": "python",
   "pygments_lexer": "ipython3",
   "version": "3.9.7"
  }
 },
 "nbformat": 4,
 "nbformat_minor": 5
}
